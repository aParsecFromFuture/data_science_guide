{
 "cells": [
  {
   "cell_type": "markdown",
   "metadata": {},
   "source": [
    "# Pandas Guide  "
   ]
  },
  {
   "cell_type": "markdown",
   "metadata": {},
   "source": [
    "### To import Pandas Module"
   ]
  },
  {
   "cell_type": "code",
   "execution_count": 4,
   "metadata": {},
   "outputs": [],
   "source": [
    "import pandas as pd"
   ]
  },
  {
   "cell_type": "markdown",
   "metadata": {},
   "source": [
    "### Creating a DataFrame manually"
   ]
  },
  {
   "cell_type": "code",
   "execution_count": 16,
   "metadata": {},
   "outputs": [
    {
     "data": {
      "text/html": [
       "<div>\n",
       "<style scoped>\n",
       "    .dataframe tbody tr th:only-of-type {\n",
       "        vertical-align: middle;\n",
       "    }\n",
       "\n",
       "    .dataframe tbody tr th {\n",
       "        vertical-align: top;\n",
       "    }\n",
       "\n",
       "    .dataframe thead th {\n",
       "        text-align: right;\n",
       "    }\n",
       "</style>\n",
       "<table border=\"1\" class=\"dataframe\">\n",
       "  <thead>\n",
       "    <tr style=\"text-align: right;\">\n",
       "      <th></th>\n",
       "      <th>city</th>\n",
       "      <th>temp</th>\n",
       "    </tr>\n",
       "  </thead>\n",
       "  <tbody>\n",
       "    <tr>\n",
       "      <th>0</th>\n",
       "      <td>ankara</td>\n",
       "      <td>28</td>\n",
       "    </tr>\n",
       "    <tr>\n",
       "      <th>1</th>\n",
       "      <td>istanbul</td>\n",
       "      <td>24</td>\n",
       "    </tr>\n",
       "    <tr>\n",
       "      <th>foo</th>\n",
       "      <td>izmir</td>\n",
       "      <td>30</td>\n",
       "    </tr>\n",
       "  </tbody>\n",
       "</table>\n",
       "</div>"
      ],
      "text/plain": [
       "         city  temp\n",
       "0      ankara    28\n",
       "1    istanbul    24\n",
       "foo     izmir    30"
      ]
     },
     "execution_count": 16,
     "metadata": {},
     "output_type": "execute_result"
    }
   ],
   "source": [
    "'''\n",
    "NOTE :\n",
    "DataFrame indices can be numerical or string values\n",
    "Single column or single row of a DataFrame is a Series\n",
    "Most of operations are immutable, that means they do not modify DataFrame, they return the new DataFrame instead\n",
    "'''\n",
    "\n",
    "pd.DataFrame({\"city\": [\"ankara\", \"istanbul\", \"izmir\"], \"temp\" : [28, 24, 30]}, index=[0, 1, \"foo\"])"
   ]
  },
  {
   "cell_type": "markdown",
   "metadata": {},
   "source": [
    "### File Operations"
   ]
  },
  {
   "cell_type": "code",
   "execution_count": null,
   "metadata": {},
   "outputs": [],
   "source": [
    "df = pd.read_csv(\"file name\")                  # read dataframe from csv file\n",
    "df = pd.read_excel(\"file name\")                # read dataframe from Excel sheet\n",
    "df = pd.read_json(\"file name\")                 # read dataframe from JSON string\n",
    "\n",
    "df.to_csv(\"file name\")                         # write dataframe to csv file\n",
    "df.to_excel(\"file name\")                       # write dataframe to Excel sheet\n",
    "df.to_json(\"file name\")                        # write dataframe to JSON string"
   ]
  },
  {
   "cell_type": "markdown",
   "metadata": {},
   "source": [
    "### Get Row or Column Count"
   ]
  },
  {
   "cell_type": "code",
   "execution_count": null,
   "metadata": {},
   "outputs": [],
   "source": [
    "len(df.index)                                  # row count\n",
    "len(df.columns)                                # column count"
   ]
  },
  {
   "cell_type": "markdown",
   "metadata": {},
   "source": [
    "### Get an element"
   ]
  },
  {
   "cell_type": "code",
   "execution_count": null,
   "metadata": {},
   "outputs": [],
   "source": [
    "df.at[\"index1\", \"column1\"]\n",
    "df.at[\"index1\", \"column1\"] = \"value\"           # to update single cell"
   ]
  },
  {
   "cell_type": "markdown",
   "metadata": {},
   "source": [
    "### Get a row or rows"
   ]
  },
  {
   "cell_type": "code",
   "execution_count": null,
   "metadata": {},
   "outputs": [],
   "source": [
    "df.iloc[7]                                     # get a row via th order\n",
    "df.loc[\"index1\"]                               # get a row via index name\n",
    "df.loc[[\"index1\", \"index2\"]]                   # get rows via list\n",
    "df.loc[[True, False, False]]                   # get rows via bool array"
   ]
  },
  {
   "cell_type": "markdown",
   "metadata": {},
   "source": [
    "### Get a column or columns"
   ]
  },
  {
   "cell_type": "code",
   "execution_count": null,
   "metadata": {},
   "outputs": [],
   "source": [
    "df[\"column1\"]                                  # get a column via column name\n",
    "df[[\"column1\", \"column2\"]]                     # get columns via list"
   ]
  },
  {
   "cell_type": "markdown",
   "metadata": {},
   "source": [
    "### Update row or column names"
   ]
  },
  {
   "cell_type": "code",
   "execution_count": null,
   "metadata": {},
   "outputs": [],
   "source": [
    "df.rename(index={\"index1\": \"new1\", \"index2\": \"new2\"})\n",
    "df.rename(columns={\"column1\": \"new1\", \"column2\": \"new2\"})"
   ]
  },
  {
   "cell_type": "markdown",
   "metadata": {},
   "source": [
    "### Delete row or columns"
   ]
  },
  {
   "cell_type": "code",
   "execution_count": null,
   "metadata": {},
   "outputs": [],
   "source": [
    "df.drop(index=[\"index1\", \"index2\"])             # drop rows via list\n",
    "df.drop(index=[True, False, False])             # drop rows via bool array\n",
    "\n",
    "df.drop(columns=[\"column1\", \"column2\"])         # drop columns via list\n",
    "df.drop(columns=[True, False, False])           # drop columns via bool array"
   ]
  },
  {
   "cell_type": "markdown",
   "metadata": {},
   "source": [
    "### Delete rows via filter"
   ]
  },
  {
   "cell_type": "code",
   "execution_count": null,
   "metadata": {},
   "outputs": [],
   "source": [
    "df.filter()"
   ]
  },
  {
   "cell_type": "markdown",
   "metadata": {},
   "source": [
    "### Get rows via query"
   ]
  },
  {
   "cell_type": "code",
   "execution_count": null,
   "metadata": {},
   "outputs": [],
   "source": [
    "df.query(\"`column1` > 24 and `column2` == 'value'\")"
   ]
  },
  {
   "cell_type": "markdown",
   "metadata": {},
   "source": [
    "### Grouping Data"
   ]
  },
  {
   "cell_type": "code",
   "execution_count": null,
   "metadata": {},
   "outputs": [],
   "source": [
    "df.groupby([\"column1\", \"column2\"])"
   ]
  },
  {
   "cell_type": "markdown",
   "metadata": {},
   "source": [
    "### Sorting rows"
   ]
  },
  {
   "cell_type": "code",
   "execution_count": null,
   "metadata": {},
   "outputs": [],
   "source": [
    "df.sort_values(\"column1\")                        # sort rows according to column\n",
    "df.sort_values(\"column1\", ascending=False)       # reverse order"
   ]
  },
  {
   "cell_type": "markdown",
   "metadata": {},
   "source": [
    "### Insert a row or rows"
   ]
  },
  {
   "cell_type": "code",
   "execution_count": null,
   "metadata": {},
   "outputs": [],
   "source": [
    "# you should create a dataframe to insert a row\n",
    "new_df = pd.DataFrame({\"city\": [\"Trabzon\"], \"temp\": [24]})\n",
    "pd.concat([df, new_df])"
   ]
  },
  {
   "cell_type": "markdown",
   "metadata": {},
   "source": [
    "### Insert a column or columns"
   ]
  },
  {
   "cell_type": "code",
   "execution_count": null,
   "metadata": {},
   "outputs": [],
   "source": [
    "# column should be type of Series\n",
    "df[\"new column\"] = column\n",
    "# or you can copy from other column\n",
    "df[\"new column\"] = df[\"column1\"]\n",
    "# or you can create a column via operate other columns\n",
    "df[\"new column\"] = df[\"column1\"] + df[\"column2\"]"
   ]
  },
  {
   "cell_type": "markdown",
   "metadata": {},
   "source": [
    "### NaN Operations"
   ]
  },
  {
   "cell_type": "code",
   "execution_count": null,
   "metadata": {},
   "outputs": [],
   "source": [
    "df.dropna(\"index\")                                # if a row has any NaN value, then drop it\n",
    "df.dropna(axis=0)                                 # Same as index\n",
    "\n",
    "df.dropna(\"column\")                               # if a column has any NaN value, then drop it\n",
    "df.dropna(axis=1)                                 # Same as column\n",
    "\n",
    "df.dropna(subset=[\"column1\", \"column2\"])          # check these columns, not all of them\n",
    "\n",
    "df[\"column1\"].notna()                             # return a bool array according to NaN values"
   ]
  },
  {
   "cell_type": "markdown",
   "metadata": {},
   "source": [
    "### Having Operation"
   ]
  },
  {
   "cell_type": "code",
   "execution_count": null,
   "metadata": {},
   "outputs": [],
   "source": [
    "# return a bool array according to the list\n",
    "# does the cell have any of the value in the list?\n",
    "df[\"column1\"].isin([\"value1\", \"value2\"])"
   ]
  },
  {
   "cell_type": "markdown",
   "metadata": {},
   "source": [
    "### To change data type of column"
   ]
  },
  {
   "cell_type": "code",
   "execution_count": null,
   "metadata": {},
   "outputs": [],
   "source": [
    "df[\"column1\"].astype(\"int\")"
   ]
  },
  {
   "cell_type": "markdown",
   "metadata": {},
   "source": [
    "### To convert a column to numpy array"
   ]
  },
  {
   "cell_type": "code",
   "execution_count": null,
   "metadata": {},
   "outputs": [],
   "source": [
    "df[\"column1\"].to_numpy()"
   ]
  }
 ],
 "metadata": {
  "kernelspec": {
   "display_name": "Python 3",
   "language": "python",
   "name": "python3"
  },
  "language_info": {
   "codemirror_mode": {
    "name": "ipython",
    "version": 3
   },
   "file_extension": ".py",
   "mimetype": "text/x-python",
   "name": "python",
   "nbconvert_exporter": "python",
   "pygments_lexer": "ipython3",
   "version": "3.8.5"
  }
 },
 "nbformat": 4,
 "nbformat_minor": 4
}
