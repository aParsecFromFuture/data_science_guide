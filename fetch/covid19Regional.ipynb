{
 "cells": [
  {
   "cell_type": "code",
   "execution_count": 1,
   "metadata": {},
   "outputs": [],
   "source": [
    "import re\n",
    "import numpy as np\n",
    "import pandas as pd\n",
    "import PyPDF2\n",
    "from io import BytesIO\n",
    "from selenium import webdriver\n",
    "from urllib.request import urlopen"
   ]
  },
  {
   "cell_type": "markdown",
   "metadata": {},
   "source": [
    "# Functions"
   ]
  },
  {
   "cell_type": "markdown",
   "metadata": {},
   "source": [
    "### Read PDF Content from URL"
   ]
  },
  {
   "cell_type": "code",
   "execution_count": 2,
   "metadata": {},
   "outputs": [],
   "source": [
    "def read_data(url):\n",
    "    pdf_content = urlopen(link)\n",
    "    pdfFileObj = BytesIO(pdf_content.read())\n",
    "    pdfReader = PyPDF2.PdfFileReader(pdfFileObj)\n",
    "    pageObj = pdfReader.getPage(2)\n",
    "    \n",
    "    return pageObj.extractText()"
   ]
  },
  {
   "cell_type": "markdown",
   "metadata": {},
   "source": [
    "### Parse the PDF Content"
   ]
  },
  {
   "cell_type": "code",
   "execution_count": 3,
   "metadata": {},
   "outputs": [],
   "source": [
    "def parse_data(data):\n",
    "    parsed = data\n",
    "    parsed = parsed[parsed.index(\"Istanbul\"):]\n",
    "    parsed = parsed[:parsed.index(\"Turkey\")]\n",
    "    return re.findall(r\"([A-Z][A-Za-z\\s]*)\\n \\n(\\d*)\\n \\n\", parsed)"
   ]
  },
  {
   "cell_type": "markdown",
   "metadata": {},
   "source": [
    "### Create a DataFrame from parsed content"
   ]
  },
  {
   "cell_type": "code",
   "execution_count": 4,
   "metadata": {},
   "outputs": [],
   "source": [
    "def get_row(parsed, dt):\n",
    "    df_data = {\"Date\": pd.to_datetime(dt, format='%d%m%Y', errors='ignore')}\n",
    "    for pair in parsed:\n",
    "        df_data[pair[0].replace('\\n', '')] = [pair[1]]\n",
    "    return pd.DataFrame(df_data)"
   ]
  },
  {
   "cell_type": "markdown",
   "metadata": {},
   "source": [
    "# Program"
   ]
  },
  {
   "cell_type": "markdown",
   "metadata": {},
   "source": [
    "### Get PDF links from the page"
   ]
  },
  {
   "cell_type": "code",
   "execution_count": 5,
   "metadata": {},
   "outputs": [],
   "source": [
    "driver = webdriver.Firefox()\n",
    "driver.get(\"https://sbsgm.saglik.gov.tr/TR,66559/gunluk-rapor--daily-report.html\")\n",
    "table = driver.find_element_by_class_name(\"table\")\n",
    "elems = table.find_elements_by_tag_name(\"a\")\n",
    "links = [elem.get_attribute('href') for elem in elems]\n",
    "del links[1::2] # Get only half of the links (links of the english version)"
   ]
  },
  {
   "cell_type": "markdown",
   "metadata": {},
   "source": [
    "### Create a DataFrame from parsed content"
   ]
  },
  {
   "cell_type": "code",
   "execution_count": 6,
   "metadata": {},
   "outputs": [],
   "source": [
    "df = pd.DataFrame()\n",
    "for link in links:\n",
    "    data = read_data(link)\n",
    "    date = re.search(\"-(\\d*)-eng.html\", link).group(1)\n",
    "    parsed = parse_data(data)\n",
    "    df = pd.concat([df, get_row(parsed, date)])"
   ]
  },
  {
   "cell_type": "code",
   "execution_count": null,
   "metadata": {},
   "outputs": [],
   "source": []
  }
 ],
 "metadata": {
  "kernelspec": {
   "display_name": "Python 3",
   "language": "python",
   "name": "python3"
  },
  "language_info": {
   "codemirror_mode": {
    "name": "ipython",
    "version": 3
   },
   "file_extension": ".py",
   "mimetype": "text/x-python",
   "name": "python",
   "nbconvert_exporter": "python",
   "pygments_lexer": "ipython3",
   "version": "3.8.5"
  }
 },
 "nbformat": 4,
 "nbformat_minor": 4
}
