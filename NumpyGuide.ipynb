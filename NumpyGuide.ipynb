{
 "cells": [
  {
   "cell_type": "markdown",
   "metadata": {},
   "source": [
    "# Numpy Guide"
   ]
  },
  {
   "cell_type": "markdown",
   "metadata": {},
   "source": [
    "### Import Numpy Module"
   ]
  },
  {
   "cell_type": "code",
   "execution_count": null,
   "metadata": {},
   "outputs": [],
   "source": [
    "import numpy as np"
   ]
  },
  {
   "cell_type": "markdown",
   "metadata": {},
   "source": [
    "### Create Numpy array"
   ]
  },
  {
   "cell_type": "code",
   "execution_count": null,
   "metadata": {},
   "outputs": [],
   "source": [
    "arr4 = np.zeros((6, ))                              # create (6, ) array and fill with zeros\n",
    "arr4 = np.ones((3, 3))                              # create (3, 3) array and fill with ones\n",
    "arr4 = np.full((2, 2, 2), 5)                        # create (2, 2, 2) array and fill with 5"
   ]
  },
  {
   "cell_type": "code",
   "execution_count": null,
   "metadata": {},
   "outputs": [],
   "source": [
    "arr1 = np.array([1, 3, 7, 2])                       # one dimensional\n",
    "arr2 = np.array([4, 6, 7, 4])                       # one dimensional\n",
    "arr3 = np.array([[1, 2, 3], [4, 5, 6], [7, 8, 9]])  # two dimensional"
   ]
  },
  {
   "cell_type": "markdown",
   "metadata": {},
   "source": [
    "### Shape, Size, ItemSize, Dtype"
   ]
  },
  {
   "cell_type": "code",
   "execution_count": null,
   "metadata": {},
   "outputs": [],
   "source": [
    "arr1.shape                        # shape of array (4, )\n",
    "arr3.shape                        # shape of array (3, 3)\n",
    "\n",
    "arr1.size                         # size of array (4)\n",
    "arr3.size                         # size of array (9)\n",
    "\n",
    "arr1.itemsize                     # size of single element (4) \n",
    "arr3.itemsize                     # size of single element (4)\n",
    "\n",
    "arr1.dtype                        # data type of array (dtype('int32'))\n",
    "arr3.dtype                        # data type of array (dtype('int32'))"
   ]
  },
  {
   "cell_type": "markdown",
   "metadata": {},
   "source": [
    "### Array - Array operations"
   ]
  },
  {
   "cell_type": "code",
   "execution_count": null,
   "metadata": {},
   "outputs": [],
   "source": [
    "arr1 + arr2                       # [5, 9, 14, 6]\n",
    "arr1 - arr2                       # [-3, -3, 0, -2]\n",
    "arr1 * arr2                       # [4, 18, 49, 8]\n",
    "arr1 / arr2                       # [0.25, 0.5, 1.0, 0.5]\n",
    "arr1 % arr2                       # [1, 3, 0, 2]"
   ]
  },
  {
   "cell_type": "markdown",
   "metadata": {},
   "source": [
    "### Array - Scalar operations"
   ]
  },
  {
   "cell_type": "code",
   "execution_count": null,
   "metadata": {},
   "outputs": [],
   "source": [
    "arr1 + 7                          # [8, 10, 14, 9]\n",
    "arr1 - 7                          # [-6, -4, 0, -5]\n",
    "arr1 * 7                          # [7, 21, 49, 14]\n",
    "arr1 / 7                          # [0.14, 0.42, 1.0, 0.28]\n",
    "arr1 % 7                          # [1, 3, 0, 2]"
   ]
  },
  {
   "cell_type": "markdown",
   "metadata": {},
   "source": [
    "### Trigonometric operations"
   ]
  },
  {
   "cell_type": "code",
   "execution_count": null,
   "metadata": {},
   "outputs": [],
   "source": [
    "np.sin(arr1)                      # sinus\n",
    "np.arcsin(arr1)                   # arcsinus\n",
    "\n",
    "np.cos(arr1)                      # cosinus\n",
    "np.arccos(arr1)                   # arccosinus\n",
    "\n",
    "np.tan(arr1)                      # tangent\n",
    "np.arctan(arr1)                   # arctangent\n",
    "\n",
    "np.deg2rad(arr1)                  # degree to radian\n",
    "np.rad2deg(arr1)                  # radian to degree"
   ]
  },
  {
   "cell_type": "markdown",
   "metadata": {},
   "source": [
    "### Linear algebra"
   ]
  },
  {
   "cell_type": "code",
   "execution_count": null,
   "metadata": {},
   "outputs": [],
   "source": [
    "np.dot(arr1, arr2)                # dot product\n",
    "np.matmul(arr3, arr3)             # matrix multiplication\n",
    "np.linalg.inv(arr3)               # inverse of a matrix\n",
    "np.linalg.eig(arr3)               # eigenvalues and eigen vectors\n",
    "np.linalg.eigvals(arr3)           # eigenvalues"
   ]
  },
  {
   "cell_type": "markdown",
   "metadata": {},
   "source": [
    "### Get an element"
   ]
  },
  {
   "cell_type": "code",
   "execution_count": null,
   "metadata": {},
   "outputs": [],
   "source": [
    "arr1[1]                            # get the element (2th element)\n",
    "arr3[0, 2]                         # get the element (row:0, column:2)"
   ]
  },
  {
   "cell_type": "markdown",
   "metadata": {},
   "source": [
    "### Get rows"
   ]
  },
  {
   "cell_type": "code",
   "execution_count": null,
   "metadata": {},
   "outputs": [],
   "source": [
    "arr3[1]                            # get single row (2th row)\n",
    "arr3[1:3]                          # get the rows from m to n (2th and 3th row)\n",
    "arr3[[0, 2]]                       # get the rows in the list (1th and 3th row)"
   ]
  },
  {
   "cell_type": "markdown",
   "metadata": {},
   "source": [
    "### Get columns"
   ]
  },
  {
   "cell_type": "code",
   "execution_count": null,
   "metadata": {},
   "outputs": [],
   "source": [
    "arr3[:, 1]                         # get single column (2th column)\n",
    "arr3[:, 1:3]                       # get the columns from m to n (2th and 3th column)\n",
    "arr3[:, [0, 2]]                    # get the columns in the list (1th and 3th column)"
   ]
  },
  {
   "cell_type": "markdown",
   "metadata": {},
   "source": [
    "### Max and Min"
   ]
  },
  {
   "cell_type": "code",
   "execution_count": null,
   "metadata": {},
   "outputs": [],
   "source": [
    "arr3.max()                         # get the biggest element in the array (9)\n",
    "arr3.max(axis=0)                   # get the row that has biggest element ([7, 8, 9])\n",
    "arr3.max(axis=1)                   # get the column that has biggest element ([3, 6, 9])\n",
    "\n",
    "arr3.min()                         # get the smallest element in the array (9)\n",
    "arr3.min(axis=0)                   # get the row that has smallest element ([7, 8, 9])\n",
    "arr3.min(axis=1)                   # get the column that has smallest element ([3, 6, 9])"
   ]
  },
  {
   "cell_type": "markdown",
   "metadata": {},
   "source": [
    "### Sum, Mean"
   ]
  },
  {
   "cell_type": "code",
   "execution_count": null,
   "metadata": {},
   "outputs": [],
   "source": [
    "arr3.sum()                         # get sum of the elements (45)\n",
    "arr3.sum(axis=0)                   # get sum of the elements along the rows ([12, 15, 18])\n",
    "arr3.sum(axis=1)                   # get sum of the elements along the columns ([6, 15, 24])\n",
    "\n",
    "arr3.mean()                        # get mean of the elements (5)\n",
    "arr3.mean(axis=0)                  # get mean of the elements along the rows ([4, 5, 6])\n",
    "arr3.mean(axis=1)                  # get mean of the elements along the columns ([2, 5, 8])"
   ]
  },
  {
   "cell_type": "markdown",
   "metadata": {},
   "source": [
    "### Queries"
   ]
  },
  {
   "cell_type": "code",
   "execution_count": null,
   "metadata": {},
   "outputs": [],
   "source": [
    "arr3[arr3 > 3]                     # get the elements which bigger than 3\n",
    "arr3[arr3 < 7]                     # get the elements which smaller than 7\n",
    "arr3[(arr3 > 3) & (arr3 < 7)]      # get the elements which bigger than 3 and smaller than 7\n",
    "arr3[arr3 % 2 == 0]                # get the elements which even number"
   ]
  },
  {
   "cell_type": "markdown",
   "metadata": {},
   "source": [
    "### Stacking"
   ]
  },
  {
   "cell_type": "code",
   "execution_count": null,
   "metadata": {},
   "outputs": [],
   "source": [
    "np.vstack([arr1, arr2])            # stack arrays in sequence vertically\n",
    "np.hstack([arr1, arr2])            # stack arrays in sequence horizontally\n",
    "np.column_stack([arr1, arr2])      # stack 1d arrays as columns into a 2d array"
   ]
  },
  {
   "cell_type": "markdown",
   "metadata": {},
   "source": [
    "### Random operations"
   ]
  },
  {
   "cell_type": "code",
   "execution_count": null,
   "metadata": {},
   "outputs": [],
   "source": [
    "np.random.rand(3,2)                # generate (3, 2) array with random numbers between 0 and 1\n",
    "np.random.randint(0, 10, size=5)   # generate 5 random integer between 0 and 10"
   ]
  }
 ],
 "metadata": {
  "kernelspec": {
   "display_name": "Python 3",
   "language": "python",
   "name": "python3"
  },
  "language_info": {
   "codemirror_mode": {
    "name": "ipython",
    "version": 3
   },
   "file_extension": ".py",
   "mimetype": "text/x-python",
   "name": "python",
   "nbconvert_exporter": "python",
   "pygments_lexer": "ipython3",
   "version": "3.8.5"
  }
 },
 "nbformat": 4,
 "nbformat_minor": 4
}
